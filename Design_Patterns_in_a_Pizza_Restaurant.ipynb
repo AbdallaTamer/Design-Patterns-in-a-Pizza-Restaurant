{
  "nbformat": 4,
  "nbformat_minor": 0,
  "metadata": {
    "colab": {
      "provenance": []
    },
    "kernelspec": {
      "name": "python3",
      "display_name": "Python 3"
    },
    "language_info": {
      "name": "python"
    }
  },
  "cells": [
    {
      "cell_type": "markdown",
      "source": [
        "#1. Creational Pattern: Factory Method\n",
        "\n",
        "Problem:\n",
        "Creating pizzas (Margherita, Pepperoni) is a complex and repetitive task.\n",
        "\n",
        "Solution:\n",
        "Use a Factory Method to encapsulate pizza creation to separates pizza creation logic from the main program and allows easy addition of new pizza types."
      ],
      "metadata": {
        "id": "0zYw-_pKVUdV"
      }
    },
    {
      "cell_type": "code",
      "source": [
        "from abc import ABC, abstractmethod\n",
        "\n",
        "class Pizza(ABC):\n",
        "    @abstractmethod\n",
        "    def get_description(self):\n",
        "        pass\n",
        "\n",
        "    @abstractmethod\n",
        "    def get_cost(self):\n",
        "        pass\n",
        "\n",
        "class Margherita(Pizza):\n",
        "    def get_description(self):\n",
        "        return \"Margherita\"\n",
        "\n",
        "    def get_cost(self):\n",
        "        return 5.0\n",
        "\n",
        "class Pepperoni(Pizza):\n",
        "    def get_description(self):\n",
        "        return \"Pepperoni\"\n",
        "\n",
        "    def get_cost(self):\n",
        "        return 6.0\n",
        "\n",
        "class PizzaFactory:\n",
        "    @staticmethod\n",
        "    def create_pizza(pizza_type):\n",
        "        if pizza_type == \"Margherita\":\n",
        "            return Margherita()\n",
        "        elif pizza_type == \"Pepperoni\":\n",
        "            return Pepperoni()\n",
        "        raise ValueError(\"Unknown Pizza Type\")"
      ],
      "metadata": {
        "id": "1PeBdMi_TpeK"
      },
      "execution_count": 16,
      "outputs": []
    },
    {
      "cell_type": "markdown",
      "source": [
        "## Benefits:\n",
        "\n",
        "- Encapsulation: Pizza creation logic is hidden from the client.\n",
        "- Polymorphism: All pizzas implement the Pizza interface.\n",
        "- Open-Closed Principle (OCP): Add new pizza types without modifying the existing code."
      ],
      "metadata": {
        "id": "IltuJFZhVloA"
      }
    },
    {
      "cell_type": "markdown",
      "source": [
        "# 2. Structural Pattern: Decorator\n",
        "\n",
        "Problem:\n",
        "Allow customers to add toppings dynamically while maintaining flexibility.\n",
        "\n",
        "Solution:\n",
        "Use the Decorator Pattern to extend pizza functionality (adding Cheese, Olives, Mushrooms) without modifying the Pizza classes."
      ],
      "metadata": {
        "id": "M7xFB6adVxRk"
      }
    },
    {
      "cell_type": "code",
      "source": [
        "class ToppingDecorator(Pizza):\n",
        "    def __init__(self, pizza):\n",
        "        self._pizza = pizza\n",
        "\n",
        "    def get_description(self):\n",
        "        return self._pizza.get_description()\n",
        "\n",
        "    def get_cost(self):\n",
        "        return self._pizza.get_cost()\n",
        "\n",
        "class Cheese(ToppingDecorator):\n",
        "    def get_description(self):\n",
        "        return f\"{self._pizza.get_description()}, Cheese\"\n",
        "\n",
        "    def get_cost(self):\n",
        "        return self._pizza.get_cost() + 1.0\n",
        "\n",
        "class Olives(ToppingDecorator):\n",
        "    def get_description(self):\n",
        "        return f\"{self._pizza.get_description()}, Olives\"\n",
        "\n",
        "    def get_cost(self):\n",
        "        return self._pizza.get_cost() + 0.5\n",
        "\n",
        "class Mushrooms(ToppingDecorator):\n",
        "    def get_description(self):\n",
        "        return f\"{self._pizza.get_description()}, Mushrooms\"\n",
        "\n",
        "    def get_cost(self):\n",
        "        return self._pizza.get_cost() + 0.7"
      ],
      "metadata": {
        "id": "axssSE_tTqIy"
      },
      "execution_count": 17,
      "outputs": []
    },
    {
      "cell_type": "markdown",
      "source": [
        "## Benefits:\n",
        "\n",
        "- Single Responsibility Principle (SRP): Each topping class handles only its behavior.\n",
        "- Open-Closed Principle (OCP): Add new toppings without modifying existing classes."
      ],
      "metadata": {
        "id": "4Y21b8HiWB_p"
      }
    },
    {
      "cell_type": "markdown",
      "source": [
        "# 3. Behavioral Pattern: Singleton\n",
        "Problem:\n",
        "Ensure a single inventory manager to manage ingredient availability consistently.\n",
        "\n",
        "Solution:\n",
        "Use the Singleton Pattern for the InventoryManager class."
      ],
      "metadata": {
        "id": "tSG3Rz02WGNZ"
      }
    },
    {
      "cell_type": "code",
      "source": [
        "class InventoryManager:\n",
        "    _instance = None\n",
        "    _inventory = {\n",
        "        \"Margherita\": 10,\n",
        "        \"Pepperoni\": 10,\n",
        "        \"Cheese\": 15,\n",
        "        \"Olives\": 10,\n",
        "        \"Mushrooms\": 12,\n",
        "    }\n",
        "\n",
        "    def __new__(cls, *args, **kwargs):\n",
        "        if not cls._instance:\n",
        "            cls._instance = super(InventoryManager, cls).__new__(cls)\n",
        "        return cls._instance\n",
        "\n",
        "    def check_and_decrement(self, item: str) -> bool:\n",
        "        if self._inventory.get(item, 0) > 0:\n",
        "            self._inventory[item] -= 1\n",
        "            return True\n",
        "        return False\n",
        "\n",
        "    def get_inventory(self):\n",
        "        return self._inventory"
      ],
      "metadata": {
        "id": "mUKfR2waTrsV"
      },
      "execution_count": 18,
      "outputs": []
    },
    {
      "cell_type": "markdown",
      "source": [
        "##Benefits:\n",
        "\n",
        "- Centralized inventory management avoids inconsistencies.\n",
        "- Ensures a shared state across the application."
      ],
      "metadata": {
        "id": "zqMmEdo1WLOa"
      }
    },
    {
      "cell_type": "markdown",
      "source": [
        "# 4. Behavioral Pattern: Strategy\n",
        "- Problem:\n",
        "Allow flexible payment options (e.g., PayPal, Credit Card).\n",
        "\n",
        "- Solution:\n",
        "Use the Strategy Pattern to define multiple payment methods and switch between them dynamically."
      ],
      "metadata": {
        "id": "RolcRj6BWRhP"
      }
    },
    {
      "cell_type": "code",
      "source": [
        "class PaymentMethod(ABC):\n",
        "    @abstractmethod\n",
        "    def pay(self, am  ount):\n",
        "        pass\n",
        "\n",
        "class PayPal(PaymentMethod):\n",
        "    def pay(self, amount):\n",
        "        print(f\"Paid ${amount:.2f} using PayPal.\")\n",
        "\n",
        "class CreditCard(PaymentMethod):\n",
        "    def pay(self, amount):\n",
        "        print(f\"Paid ${amount:.2f} using Credit Card.\")"
      ],
      "metadata": {
        "id": "JrMVfz04TvPe"
      },
      "execution_count": 19,
      "outputs": []
    },
    {
      "cell_type": "markdown",
      "source": [
        "Benefits:\n",
        "\n",
        "- Open-Closed Principle (OCP): Add new payment methods without changing existing code.\n",
        "- Encapsulation: Payment logic is abstracted from the main system."
      ],
      "metadata": {
        "id": "38QbY26fWaed"
      }
    },
    {
      "cell_type": "markdown",
      "source": [
        "#Overengineering Concept\n",
        "Overengineering occurs when a system becomes unnecessarily complex due to overuse of patterns or abstractions.\n",
        "\n",
        "For example:"
      ],
      "metadata": {
        "id": "iMRrmozqWh1c"
      }
    },
    {
      "cell_type": "code",
      "source": [
        "class AbstractToppingFactory:\n",
        "    def create_topping(self, topping_type):\n",
        "        if topping_type == \"Cheese\":\n",
        "            return Cheese(None)\n",
        "        elif topping_type == \"Olives\":\n",
        "            return Olives(None)\n",
        "        raise ValueError(\"Unknown Topping Type\")"
      ],
      "metadata": {
        "id": "0IGSQ7NyULGw"
      },
      "execution_count": 20,
      "outputs": []
    },
    {
      "cell_type": "markdown",
      "source": [
        "This is unnecessary when a simpler decorator approach suffices.\n",
        "\n"
      ],
      "metadata": {
        "id": "0_UVchXvWkqj"
      }
    },
    {
      "cell_type": "markdown",
      "source": [
        "#Main"
      ],
      "metadata": {
        "id": "APr_GDAbWma8"
      }
    },
    {
      "cell_type": "code",
      "source": [
        "def main():\n",
        "    inventory_manager = InventoryManager()\n",
        "\n",
        "    print(\"Welcome to the Pizza Restaurant!\")\n",
        "\n",
        "    while True:\n",
        "        print(\"Choose your base pizza:\")\n",
        "        print(\"1. Margherita ($5.0)\")\n",
        "        print(\"2. Pepperoni ($6.0)\")\n",
        "        print(\"0 => to exit\")\n",
        "        pizza_choice = input(\"Enter the number of your choice: \")\n",
        "\n",
        "        if pizza_choice == \"0\":\n",
        "            break\n",
        "\n",
        "        pizza_type = \"Margherita\" if pizza_choice == \"1\" else \"Pepperoni\"\n",
        "        if not inventory_manager.check_and_decrement(pizza_type):\n",
        "            print(f\"Sorry, {pizza_type} is out of stock!\")\n",
        "            continue\n",
        "\n",
        "        pizza = PizzaFactory.create_pizza(pizza_type)\n",
        "\n",
        "        while True:\n",
        "            print(\"\\nAvailable toppings:\")\n",
        "            print(\"1. Cheese ($1.0)\")\n",
        "            print(\"2. Olives ($0.5)\")\n",
        "            print(\"3. Mushrooms ($0.7)\")\n",
        "            print(\"4. Finish order\")\n",
        "            topping_choice = input(\"Enter the number of your choice: \")\n",
        "\n",
        "            topping_map = {\"1\": (\"Cheese\", Cheese), \"2\": (\"Olives\", Olives), \"3\": (\"Mushrooms\", Mushrooms)}\n",
        "\n",
        "            if topping_choice in topping_map:\n",
        "                topping_name, topping_class = topping_map[topping_choice]\n",
        "                if inventory_manager.check_and_decrement(topping_name):\n",
        "                    pizza = topping_class(pizza)\n",
        "                else:\n",
        "                    print(f\"Sorry, {topping_name} is out of stock!\")\n",
        "            elif topping_choice == \"4\":\n",
        "                break\n",
        "            else:\n",
        "                print(\"Invalid choice!\")\n",
        "\n",
        "        print(\"\\nYour order:\")\n",
        "        print(f\"Description: {pizza.get_description()}\")\n",
        "        print(f\"Total cost: ${pizza.get_cost():.2f}\")\n",
        "\n",
        "        print(\"\\nChoose payment method:\")\n",
        "        print(\"1. PayPal\")\n",
        "        print(\"2. Credit Card\")\n",
        "        payment_choice = input(\"Enter the number of your choice: \")\n",
        "\n",
        "        payment_method = PayPal() if payment_choice == \"1\" else CreditCard()\n",
        "        payment_method.pay(pizza.get_cost())\n",
        "\n",
        "        print(\"\\nRemaining Inventory:\")\n",
        "        print(inventory_manager.get_inventory())\n",
        "\n",
        "\n",
        "if __name__ == \"__main__\":\n",
        "    main()"
      ],
      "metadata": {
        "colab": {
          "base_uri": "https://localhost:8080/"
        },
        "id": "pS4_NI4ITxT2",
        "outputId": "8d779806-e470-44ed-8b85-7a2eda6960a6"
      },
      "execution_count": 21,
      "outputs": [
        {
          "name": "stdout",
          "output_type": "stream",
          "text": [
            "Welcome to the Pizza Restaurant!\n",
            "Choose your base pizza:\n",
            "1. Margherita ($5.0)\n",
            "2. Pepperoni ($6.0)\n",
            "0 => to exit\n",
            "Enter the number of your choice: 1\n",
            "\n",
            "Available toppings:\n",
            "1. Cheese ($1.0)\n",
            "2. Olives ($0.5)\n",
            "3. Mushrooms ($0.7)\n",
            "4. Finish order\n",
            "Enter the number of your choice: 3\n",
            "\n",
            "Available toppings:\n",
            "1. Cheese ($1.0)\n",
            "2. Olives ($0.5)\n",
            "3. Mushrooms ($0.7)\n",
            "4. Finish order\n",
            "Enter the number of your choice: 4\n",
            "\n",
            "Your order:\n",
            "Description: Margherita, Mushrooms\n",
            "Total cost: $5.70\n",
            "\n",
            "Choose payment method:\n",
            "1. PayPal\n",
            "2. Credit Card\n",
            "Enter the number of your choice: 1\n",
            "Paid $5.70 using PayPal.\n",
            "\n",
            "Remaining Inventory:\n",
            "{'Margherita': 9, 'Pepperoni': 10, 'Cheese': 15, 'Olives': 10, 'Mushrooms': 11}\n",
            "Choose your base pizza:\n",
            "1. Margherita ($5.0)\n",
            "2. Pepperoni ($6.0)\n",
            "0 => to exit\n",
            "Enter the number of your choice: 0\n"
          ]
        }
      ]
    }
  ]
}